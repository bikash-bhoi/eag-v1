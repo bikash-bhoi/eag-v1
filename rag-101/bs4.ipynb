{
 "cells": [
  {
   "cell_type": "code",
   "execution_count": 17,
   "metadata": {},
   "outputs": [],
   "source": [
    "import re\n",
    "import requests\n",
    "from bs4 import BeautifulSoup\n",
    "from selenium import webdriver\n",
    "from selenium.webdriver.chrome.options import Options"
   ]
  },
  {
   "cell_type": "code",
   "execution_count": 22,
   "metadata": {},
   "outputs": [],
   "source": [
    "url = \"https://www.iplt20.com/news/match-reports\"\n",
    "\n",
    "# Add headers to pretend we are a browser\n",
    "headers = {\n",
    "    \"User-Agent\": \"Mozilla/5.0 (Windows NT 10.0; Win64; x64) \"\n",
    "                  \"AppleWebKit/537.36 (KHTML, like Gecko) \"\n",
    "                  \"Chrome/112.0.0.0 Safari/537.36\"\n",
    "}\n",
    "\n",
    "# Fetch the page\n",
    "response = requests.get(url, headers=headers)\n",
    "soup = BeautifulSoup(response.content, \"html.parser\")\n",
    "\n",
    "# Find all 'a' tags with href\n",
    "links = soup.find_all(\"a\", href=True)"
   ]
  },
  {
   "cell_type": "code",
   "execution_count": 23,
   "metadata": {},
   "outputs": [
    {
     "name": "stdout",
     "output_type": "stream",
     "text": [
      "31\n",
      "https://www.iplt20.com/news/4180/tata-ipl-2025-match-43-csk-vs-srh-match-report\n",
      "https://www.iplt20.com/news/4180/tata-ipl-2025-match-43-csk-vs-srh-match-report\n",
      "https://www.iplt20.com/news/4179/tata-ipl-2025-match-42-rcb-vs-rr-match-report\n",
      "https://www.iplt20.com/news/4179/tata-ipl-2025-match-42-rcb-vs-rr-match-report\n",
      "https://www.iplt20.com/news/4178/tata-ipl-2025-match-41-srh-vs-mi-match-report\n",
      "https://www.iplt20.com/news/4178/tata-ipl-2025-match-41-srh-vs-mi-match-report\n",
      "https://www.iplt20.com/news/4176/tata-ipl-2025-match-40-lsg-vs-dc-match-report\n",
      "https://www.iplt20.com/news/4176/tata-ipl-2025-match-40-lsg-vs-dc-match-report\n",
      "https://www.iplt20.com/news/4175/tata-ipl-2025-match-39-kkr-vs-gt-match-report\n",
      "https://www.iplt20.com/news/4175/tata-ipl-2025-match-39-kkr-vs-gt-match-report\n",
      "https://www.iplt20.com/news/4180/tata-ipl-2025-match-43-csk-vs-srh-match-report\n",
      "https://www.iplt20.com/news/4179/tata-ipl-2025-match-42-rcb-vs-rr-match-report\n",
      "https://www.iplt20.com/news/4178/tata-ipl-2025-match-41-srh-vs-mi-match-report\n",
      "https://www.iplt20.com/news/4176/tata-ipl-2025-match-40-lsg-vs-dc-match-report\n",
      "https://www.iplt20.com/news/4175/tata-ipl-2025-match-39-kkr-vs-gt-match-report\n",
      "https://www.iplt20.com/news/4174/tata-ipl-2025-match-38-mi-vs-csk-match-report\n",
      "https://www.iplt20.com/news/4173/tata-ipl-2025-match-37-pbks-vs-rcb-match-report\n",
      "https://www.iplt20.com/news/4172/tata-ipl-2025-match-36-rr-vs-lsg-match-report\n",
      "https://www.iplt20.com/news/4170/tata-ipl-2025-match-35-gt-vs-dc-match-report\n",
      "https://www.iplt20.com/news/4169/tata-ipl-2025-match-34-rcb-vs-pbks-match-report\n",
      "https://www.iplt20.com/news/4167/tata-ipl-2025-match-33-mi-vs-srh-match-report\n",
      "https://www.iplt20.com/news/4164/tata-ipl-2025-match-32-dc-vs-rr-match-report\n",
      "https://www.iplt20.com/news/4163/tata-ipl-2025-match-31-pbks-vs-kkr-match-report\n",
      "https://www.iplt20.com/news/4162/tata-ipl-2025-match-30-lsg-vs-csk-match-report\n",
      "https://www.iplt20.com/news/4159/tata-ipl-2025-match-29-dc-vs-mi-match-report\n",
      "https://www.iplt20.com/news/4158/tata-ipl-2025-match-28-rr-vs-rcb-match-report\n",
      "https://www.iplt20.com/news/4157/tata-ipl-2025-match-27-srh-vs-pbks-match-report\n",
      "https://www.iplt20.com/news/4156/tata-ipl-2025-match-26-lsg-vs-gt-match-report\n",
      "https://www.iplt20.com/news/4155/tata-ipl-2025-match-25-csk-vs-kkr-match-report\n",
      "https://www.iplt20.com/news/4154/tata-ipl-2025-match-24-rcb-vs-dc-match-report\n",
      "https://www.iplt20.com/news/4152/tata-ipl-2025-match-23-gt-vs-rr-match-report\n"
     ]
    }
   ],
   "source": [
    "match_report_links = []\n",
    "for link in links:\n",
    "    href = link['href']\n",
    "    if 'match-report' in href and href.startswith(\"https://www.iplt20.com/news\") and \"/tata-ipl-2025-match-\" in href:\n",
    "        if href.startswith('/'):\n",
    "            full_link = \"https://www.espncricinfo.com\" + href\n",
    "        else:\n",
    "            full_link = href\n",
    "        match_report_links.append(full_link)\n",
    "\n",
    "print(len(match_report_links))\n",
    "# Print the extracted links\n",
    "for link in match_report_links:\n",
    "    print(link)"
   ]
  },
  {
   "cell_type": "code",
   "execution_count": 46,
   "metadata": {},
   "outputs": [
    {
     "name": "stdout",
     "output_type": "stream",
     "text": [
      "<Response [200]>\n",
      "TATA IPL 2025 Match 43 , CSK vs SRH- Match Report\n",
      "\n",
      "Sunrisers Hyderabad (SRH) produced a clinical all-round performance to beat Chennai Super Kings (CSK) by five wickets in Match 43 of TATA IPL 2025 at the MA Chidambaram Stadium, registering their first-ever win over CSK in Chennai.\n",
      "\n",
      "It was a night of firsts for SRH, and a night of heartbreak for the Chepauk faithful as CSK, despite promising sparks from young talent, couldn’t post a challenging total. Pat Cummins’ decision to bowl first paid off in style as his bowlers, led by Harshal Patel, kept CSK to a modest 154. The chase wasn’t entirely smooth, but Kamindu Mendis’ late heroics with the bat ensured SRH crossed the finish line with eight balls to spare.\n",
      "\n",
      "\n",
      "\n",
      "The match began on a dramatic note as Mohd. Shami, with his trademark seam movement, struck on the very first delivery. Shaik Rasheed nicked one to first slip where Abhishek Sharma pulled off a sharp catch.\n",
      "\n",
      "CSK had entrusted their opening to young guns Rasheed and 17-year-old Ayush Mhatre, and while Rasheed departed early, Ayush played with impressive poise. The teenager took on both Shami and Cummins with audacious strokeplay, cracking six boundaries in a brisk 30 off 19 balls. However, Cummins had the last laugh. By the end of the powerplay, CSK were 50/3.\n",
      "\n",
      "As the innings wobbled, CSK looked to rebuild through Ravindra Jadeja and Dewald Brevis. But the move didn’t last long as Kamindu Mendis, brought in for his off-spin, cleaned up Jadeja with a delivery that drifted in and held its line.\n",
      "\n",
      "Brevis, though, gave the Chepauk crowd something to cheer for. On his CSK debut, he mixed caution with brute force. He took on Mendis for three sixes and followed it up with another against Harshal Patel. Just as he looked set for a bigger score, he attempted another big one and holed out at long-off, where Mendis sprinted and held on to a stunning catch, ending Brevis’ entertaining 42 off 25 balls.\n",
      "\n",
      "\n",
      "\n",
      "After that, CSK couldn’t find momentum. MS Dhoni, playing his 400th T20 match, walked in to loud cheers but fell cheaply. Deepak Hooda tried to rally towards the end but the SRH bowlers kept chipping away. Harshal Patel was the star, finishing with 4/28, while Cummins and Jaydev Unadkat picked two each. Mendis and Shami chipped in with one apiece as CSK folded for 154 in 19.5 overs.\n",
      "\n",
      "\n",
      "\n",
      "SRH’s reply began just like CSK’s, with an early wicket. Abhishek Sharma fell for a duck to Khaleel Ahmed in the very first over. Travis Head and Ishan Kishan looked to rebuild and added a few quick runs, but Head was bowled by Anshul Kamboj just as the powerplay ended, leaving SRH at 37/2.\n",
      "\n",
      "CSK clawed back further when Ravindra Jadeja trapped Heinrich Klaasen in the ninth over. Kishan, however, looked in good touch, counter-attacking with two sixes and keeping the required rate in check. But Noor Ahmad’s introduction turned things again. Kishan fell for a well-made 44 off 34 after a stunning boundary-line catch by Sam Curran. Noor struck again soon after, dismissing Aniket Verma to leave SRH at 106/5, needing 49 off 36 balls.\n",
      "\n",
      "\n",
      "\n",
      "With the match hanging in the balance, Kamindu Mendis once again stepped up. Having already starred with the ball and in the field, he now took charge with the bat. Calm under pressure, the all-rounder played smart cricket, rotating strike, finding gaps, and punishing anything loose.\n",
      "\n",
      "He found an able ally in Nitish Reddy, and the duo stitched together an unbeaten 49-run partnership to take SRH home in 18.4 overs. Mendis remained unbeaten on 32 off 22 deliveries, guiding SRH to their first-ever win in Chennai in IPL history.  \n",
      "  \n",
      "CHECK OUT THE FULL SCORECARD [HERE](https://www.iplt20.com/match/2025/1841).\n"
     ]
    }
   ],
   "source": [
    "import requests\n",
    "from readability.readability import Document\n",
    "import markdownify\n",
    "\n",
    "# URL of the match report\n",
    "url = \"https://www.iplt20.com/news/4180/tata-ipl-2025-match-43-csk-vs-srh-match-report\"\n",
    "\n",
    "# Fetch the page\n",
    "headers = {\n",
    "    \"User-Agent\": \"Mozilla/5.0 (Windows NT 10.0; Win64; x64) \"\n",
    "                  \"AppleWebKit/537.36 (KHTML, like Gecko) \"\n",
    "                  \"Chrome/112.0.0.0 Safari/537.36\"\n",
    "}\n",
    "\n",
    "response = requests.get(url, headers=headers)\n",
    "print(response)\n",
    "if response.status_code == 200:\n",
    "    # Use readability to extract the main content\n",
    "    doc = Document(response.text)\n",
    "    main_html = doc.summary()\n",
    "\n",
    "    # Convert HTML to Markdown\n",
    "    markdown_content = markdownify.markdownify(main_html, heading_style=\"ATX\")\n",
    "\n",
    "    # Output the markdown\n",
    "    print(markdown_content)\n",
    "else:\n",
    "    print(f\"Failed to fetch page, status code: {response.status_code}\")\n"
   ]
  },
  {
   "cell_type": "code",
   "execution_count": 52,
   "metadata": {},
   "outputs": [
    {
     "name": "stdout",
     "output_type": "stream",
     "text": [
      "‘Hi’\n",
      "'Hi'\n"
     ]
    }
   ],
   "source": [
    "import re\n",
    "s = \"\\u2018Hi\\u2019\"\n",
    "print(s)\n",
    "s = re.sub(u\"(\\u2018|\\u2019)\", \"'\", s)\n",
    "print(s)"
   ]
  },
  {
   "cell_type": "code",
   "execution_count": null,
   "metadata": {},
   "outputs": [],
   "source": []
  }
 ],
 "metadata": {
  "kernelspec": {
   "display_name": "Python 3",
   "language": "python",
   "name": "python3"
  },
  "language_info": {
   "codemirror_mode": {
    "name": "ipython",
    "version": 3
   },
   "file_extension": ".py",
   "mimetype": "text/x-python",
   "name": "python",
   "nbconvert_exporter": "python",
   "pygments_lexer": "ipython3",
   "version": "3.11.0"
  }
 },
 "nbformat": 4,
 "nbformat_minor": 2
}
